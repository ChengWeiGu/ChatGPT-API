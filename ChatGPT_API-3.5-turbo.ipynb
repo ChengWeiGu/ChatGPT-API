{
 "cells": [
  {
   "cell_type": "code",
   "execution_count": 1,
   "id": "2abbed8f",
   "metadata": {},
   "outputs": [],
   "source": [
    "# note that the version of openai should be >= 0.27.0\n",
    "import openai\n",
    "import pandas as pd\n",
    "import string"
   ]
  },
  {
   "cell_type": "code",
   "execution_count": 2,
   "id": "df8f6bcb",
   "metadata": {},
   "outputs": [],
   "source": [
    "#writing openai api key\n",
    "openai.api_key = \"Your API Key\""
   ]
  },
  {
   "cell_type": "code",
   "execution_count": 5,
   "id": "f39de377",
   "metadata": {},
   "outputs": [
    {
     "name": "stdout",
     "output_type": "stream",
     "text": [
      "{\n",
      "  \"choices\": [\n",
      "    {\n",
      "      \"finish_reason\": \"stop\",\n",
      "      \"index\": 0,\n",
      "      \"message\": {\n",
      "        \"content\": \"The 2020 World Series was played at Globe Life Field in Arlington, Texas.\",\n",
      "        \"role\": \"assistant\"\n",
      "      }\n",
      "    }\n",
      "  ],\n",
      "  \"created\": 1678254230,\n",
      "  \"id\": \"chatcmpl-6rgsYYjLrc3pKwJ7d8tZXhdR8G1Fd\",\n",
      "  \"model\": \"gpt-3.5-turbo-0301\",\n",
      "  \"object\": \"chat.completion\",\n",
      "  \"usage\": {\n",
      "    \"completion_tokens\": 19,\n",
      "    \"prompt_tokens\": 56,\n",
      "    \"total_tokens\": 75\n",
      "  }\n",
      "}\n",
      "The 2020 World Series was played at Globe Life Field in Arlington, Texas.\n"
     ]
    }
   ],
   "source": [
    "# Example: use conversation record as chatgpt input\n",
    "# cost: $2/1M_tokens where 1 token ~ 0.75 words\n",
    "response = openai.ChatCompletion.create(\n",
    "                                    model = \"gpt-3.5-turbo\",\n",
    "                                    messages=[\n",
    "                                            {\"role\":\"system\",\"content\":\"You are a helpful assistant.\"},\n",
    "                                            {\"role\":\"user\",\"content\":\"Who won the world series in 2020?\"},\n",
    "                                            {\"role\":\"assistant\",\"content\":\"The Los Angeles Dodgers won the World Series in 2020.\"},\n",
    "                                            {\"role\":\"user\",\"content\":\"Where was it played?\"}\n",
    "                                    ]\n",
    "                                )\n",
    "\n",
    "print(response)\n",
    "print(response.choices[0].message.content)"
   ]
  },
  {
   "cell_type": "code",
   "execution_count": 22,
   "id": "e7128e1c",
   "metadata": {},
   "outputs": [],
   "source": [
    "# commom expression with parameter setting:\n",
    "def send_respond_gpt_turbo(msg):\n",
    "    response = openai.ChatCompletion.create(\n",
    "                                    model = \"gpt-3.5-turbo\",\n",
    "                                    messages=[\n",
    "                                        {\"role\":\"user\",\"content\":msg}\n",
    "                                    ],\n",
    "                                    n=1, # num of ans\n",
    "                                    max_tokens=2048 # num of tokens, input+output, 4096 is max\n",
    "                                )\n",
    "#     print(response)\n",
    "    complete_text=response.choices[0].message.content\n",
    "    return complete_text"
   ]
  },
  {
   "cell_type": "code",
   "execution_count": 23,
   "id": "a68e6583",
   "metadata": {},
   "outputs": [
    {
     "name": "stdout",
     "output_type": "stream",
     "text": [
      "YOU:  翻譯成英語:今天我為你演示如何使用OpenAI的ChatGPT API\n",
      "AI:  \n",
      "\n",
      "Today, I will demonstrate how to use OpenAI's ChatGPT API for you.\n"
     ]
    }
   ],
   "source": [
    "# Test the translation\n",
    "msg = \"翻譯成英語:今天我為你演示如何使用OpenAI的ChatGPT API\"\n",
    "complete_text = send_respond_gpt_turbo(msg)\n",
    "print(\"YOU: \",msg)\n",
    "print(\"AI: \",complete_text)"
   ]
  },
  {
   "cell_type": "code",
   "execution_count": 24,
   "id": "102199c2",
   "metadata": {},
   "outputs": [
    {
     "name": "stdout",
     "output_type": "stream",
     "text": [
      "YOU:  寫一個Python程序將一個wav文件切分成相等的十份\n",
      "AI:  \n",
      "\n",
      "你可以使用Python中的wave模块和numpy模块来执行此操作。以下是一个简单的程序，可以将一个wav文件分割成十份，并将每个部分保存为一个新的wav文件：\n",
      "\n",
      "```python\n",
      "import wave\n",
      "import numpy as np\n",
      "\n",
      "# 打开WAV文件\n",
      "wav = wave.open(\"input.wav\", \"rb\")\n",
      "\n",
      "# 读取WAV文件的参数\n",
      "params = wav.getparams()\n",
      "\n",
      "# 读取音频数据\n",
      "frames = wav.readframes(-1)\n",
      "frames = np.frombuffer(frames, dtype=np.int16)\n",
      "\n",
      "# 将音频数据切分成10份\n",
      "num_samples = len(frames)\n",
      "samples_per_segment = num_samples // 10\n",
      "segments = [frames[i:i+samples_per_segment] for i in range(0, num_samples, samples_per_segment)]\n",
      "\n",
      "# 保存每个部分为一个新的wav文件\n",
      "for i, segment in enumerate(segments):\n",
      "    # 创建新的WAV文件\n",
      "    wav_out = wave.open(\"output{}.wav\".format(i), \"wb\")\n",
      "\n",
      "    # 设置WAV文件参数\n",
      "    wav_out.setparams(params)\n",
      "\n",
      "    # 将音频数据写入新的WAV文件\n",
      "    wav_out.writeframes(segment.tobytes())\n",
      "\n",
      "    # 关闭WAV文件\n",
      "    wav_out.close()\n",
      "\n",
      "# 关闭原始WAV文件\n",
      "wav.close()\n",
      "```\n",
      "\n",
      "在此示例中，我们使用`wave`模块打开一个wav文件，并使用`getparams()`方法读取该文件的参数（以便我们可以将这些参数用于新文件）。然后，我们使用`numpy`模块读取音频数据，并将其分成十份（使用`len()`获取音频数据的长度，然后使用整除运算符`//`和列表推导来创建`segments`列表）。\n",
      "\n",
      "最后，我们循环遍历每个部分，并使用`wave`模块创建一个新的wav文件，设置该文件的参数（与原始文件相同），并将该部分的音频数据写入新文件。最后，我们关闭原始WAV文件和新的WAV文件。\n"
     ]
    }
   ],
   "source": [
    "# to produce a python codes\n",
    "msg = \"寫一個Python程序將一個wav文件切分成相等的十份\"\n",
    "complete_text = send_respond_gpt_turbo(msg)\n",
    "print(\"YOU: \",msg)\n",
    "print(\"AI: \",complete_text)"
   ]
  },
  {
   "cell_type": "code",
   "execution_count": null,
   "id": "3f0924bd",
   "metadata": {},
   "outputs": [],
   "source": []
  }
 ],
 "metadata": {
  "kernelspec": {
   "display_name": "Python 3 (ipykernel)",
   "language": "python",
   "name": "python3"
  },
  "language_info": {
   "codemirror_mode": {
    "name": "ipython",
    "version": 3
   },
   "file_extension": ".py",
   "mimetype": "text/x-python",
   "name": "python",
   "nbconvert_exporter": "python",
   "pygments_lexer": "ipython3",
   "version": "3.7.16"
  }
 },
 "nbformat": 4,
 "nbformat_minor": 5
}
